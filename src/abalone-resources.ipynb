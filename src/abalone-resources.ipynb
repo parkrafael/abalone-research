{
 "cells": [
  {
   "cell_type": "markdown",
   "id": "6abab5e9-0d10-4e8e-868d-46ae1ca014af",
   "metadata": {},
   "source": [
    "# Links to Resources/Cites used\n",
    "\n",
    "### Dataset:\n",
    "https://archive.ics.uci.edu/dataset/1/abalone\n",
    "\n",
    "### External research for the proposal\n",
    "[1] https://www.foodrepublic.com/1294247/what-is-abalone-and-why-do-we-love-it/\n",
    "\n",
    "[2] https://mpra.ub.uni-muenchen.de/91210/1/MPRA_paper_91210.pdf\n",
    "\n",
    "[3] https://asc-aqua.org/learn-about-seafood-farming/farmed-abalone/"
   ]
  }
 ],
 "metadata": {
  "kernelspec": {
   "display_name": "Python 3 (ipykernel)",
   "language": "python",
   "name": "python3"
  },
  "language_info": {
   "codemirror_mode": {
    "name": "ipython",
    "version": 3
   },
   "file_extension": ".py",
   "mimetype": "text/x-python",
   "name": "python",
   "nbconvert_exporter": "python",
   "pygments_lexer": "ipython3",
   "version": "3.10.8"
  }
 },
 "nbformat": 4,
 "nbformat_minor": 5
}
